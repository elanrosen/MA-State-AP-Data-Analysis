{
 "cells": [
  {
   "cell_type": "code",
   "execution_count": 70,
   "metadata": {
    "collapsed": true
   },
   "outputs": [],
   "source": [
    "import pandas as pd\n",
    "import numpy as np\n",
    "import seaborn as sns\n",
    "import matplotlib.pyplot as plt"
   ]
  },
  {
   "cell_type": "code",
   "execution_count": 141,
   "metadata": {
    "collapsed": true
   },
   "outputs": [],
   "source": [
    "file_participation = \"participation.xlsx\"\n",
    "file_enrollment = 'enrollment.xlsx'\n",
    "\n",
    "participation2018 = pd.read_excel(file_participation, index_col=1, header=None, names=['School', 'Takers', 'Tests', '1', '2', '3', '4', '5+'])\n",
    "participation2018.index.names = ['ID']\n",
    "enrollment2018 = pd.read_excel(file_enrollment, index_col=1, names=['School', 'enrollment', 'state_rank', 'nat_rank'])\n",
    "enrollment2018.index.names = ['ID']\n",
    "\n",
    "#participation2018 = pd.concat([participation2018])"
   ]
  },
  {
   "cell_type": "code",
   "execution_count": 142,
   "metadata": {
    "collapsed": true
   },
   "outputs": [],
   "source": [
    "relative_to_enrollment = pd.DataFrame()\n",
    "relative_to_takers = pd.DataFrame()\n",
    "relative_to_tests = pd.DataFrame()"
   ]
  },
  {
   "cell_type": "code",
   "execution_count": 143,
   "metadata": {
    "collapsed": true
   },
   "outputs": [],
   "source": [
    "participation_reference = pd.DataFrame([participation2018['1'],\n",
    "                                        participation2018['2'],\n",
    "                                        participation2018['3'],\n",
    "                                        participation2018['4'],\n",
    "                                        participation2018['5+']])\n",
    "participation_reference = participation_reference.T\n",
    "participation_reference['3+'] = participation2018['3'] + participation2018['4'] + participation2018['5+']\n",
    "participation_reference['4+'] = participation2018['4'] + participation2018['5+']"
   ]
  },
  {
   "cell_type": "code",
   "execution_count": 144,
   "metadata": {},
   "outputs": [
    {
     "data": {
      "text/html": [
       "<div>\n",
       "<style scoped>\n",
       "    .dataframe tbody tr th:only-of-type {\n",
       "        vertical-align: middle;\n",
       "    }\n",
       "\n",
       "    .dataframe tbody tr th {\n",
       "        vertical-align: top;\n",
       "    }\n",
       "\n",
       "    .dataframe thead th {\n",
       "        text-align: right;\n",
       "    }\n",
       "</style>\n",
       "<table border=\"1\" class=\"dataframe\">\n",
       "  <thead>\n",
       "    <tr style=\"text-align: right;\">\n",
       "      <th></th>\n",
       "      <th>1</th>\n",
       "      <th>2</th>\n",
       "      <th>3</th>\n",
       "      <th>4</th>\n",
       "      <th>5+</th>\n",
       "      <th>3+</th>\n",
       "      <th>4+</th>\n",
       "    </tr>\n",
       "    <tr>\n",
       "      <th>ID</th>\n",
       "      <th></th>\n",
       "      <th></th>\n",
       "      <th></th>\n",
       "      <th></th>\n",
       "      <th></th>\n",
       "      <th></th>\n",
       "      <th></th>\n",
       "    </tr>\n",
       "  </thead>\n",
       "  <tbody>\n",
       "    <tr>\n",
       "      <th>10505</th>\n",
       "      <td>36.0</td>\n",
       "      <td>21.0</td>\n",
       "      <td>20.0</td>\n",
       "      <td>2.0</td>\n",
       "      <td>0.0</td>\n",
       "      <td>22.0</td>\n",
       "      <td>2.0</td>\n",
       "    </tr>\n",
       "    <tr>\n",
       "      <th>50505</th>\n",
       "      <td>112.0</td>\n",
       "      <td>78.0</td>\n",
       "      <td>26.0</td>\n",
       "      <td>11.0</td>\n",
       "      <td>4.0</td>\n",
       "      <td>41.0</td>\n",
       "      <td>15.0</td>\n",
       "    </tr>\n",
       "    <tr>\n",
       "      <th>70505</th>\n",
       "      <td>43.0</td>\n",
       "      <td>39.0</td>\n",
       "      <td>2.0</td>\n",
       "      <td>0.0</td>\n",
       "      <td>0.0</td>\n",
       "      <td>2.0</td>\n",
       "      <td>0.0</td>\n",
       "    </tr>\n",
       "    <tr>\n",
       "      <th>90505</th>\n",
       "      <td>199.0</td>\n",
       "      <td>183.0</td>\n",
       "      <td>77.0</td>\n",
       "      <td>18.0</td>\n",
       "      <td>3.0</td>\n",
       "      <td>98.0</td>\n",
       "      <td>21.0</td>\n",
       "    </tr>\n",
       "    <tr>\n",
       "      <th>100505</th>\n",
       "      <td>117.0</td>\n",
       "      <td>129.0</td>\n",
       "      <td>91.0</td>\n",
       "      <td>42.0</td>\n",
       "      <td>18.0</td>\n",
       "      <td>151.0</td>\n",
       "      <td>60.0</td>\n",
       "    </tr>\n",
       "  </tbody>\n",
       "</table>\n",
       "</div>"
      ],
      "text/plain": [
       "            1      2     3     4    5+     3+    4+\n",
       "ID                                                 \n",
       "10505    36.0   21.0  20.0   2.0   0.0   22.0   2.0\n",
       "50505   112.0   78.0  26.0  11.0   4.0   41.0  15.0\n",
       "70505    43.0   39.0   2.0   0.0   0.0    2.0   0.0\n",
       "90505   199.0  183.0  77.0  18.0   3.0   98.0  21.0\n",
       "100505  117.0  129.0  91.0  42.0  18.0  151.0  60.0"
      ]
     },
     "execution_count": 144,
     "metadata": {},
     "output_type": "execute_result"
    }
   ],
   "source": [
    "participation_reference.head()"
   ]
  },
  {
   "cell_type": "code",
   "execution_count": 145,
   "metadata": {
    "collapsed": true
   },
   "outputs": [],
   "source": [
    "for i in participation_reference.columns:\n",
    "    relative_to_enrollment[i] = participation_reference[i] / enrollment2018['enrollment'] * 100\n",
    "    relative_to_takers[i] = participation_reference[i] / participation2018['Takers'] * 100\n",
    "    relative_to_tests[i] = participation_reference[i] / participation2018['Tests'] * 100"
   ]
  },
  {
   "cell_type": "code",
   "execution_count": 146,
   "metadata": {},
   "outputs": [
    {
     "data": {
      "text/html": [
       "<div>\n",
       "<style scoped>\n",
       "    .dataframe tbody tr th:only-of-type {\n",
       "        vertical-align: middle;\n",
       "    }\n",
       "\n",
       "    .dataframe tbody tr th {\n",
       "        vertical-align: top;\n",
       "    }\n",
       "\n",
       "    .dataframe thead th {\n",
       "        text-align: right;\n",
       "    }\n",
       "</style>\n",
       "<table border=\"1\" class=\"dataframe\">\n",
       "  <thead>\n",
       "    <tr style=\"text-align: right;\">\n",
       "      <th></th>\n",
       "      <th>1</th>\n",
       "      <th>2</th>\n",
       "      <th>3</th>\n",
       "      <th>4</th>\n",
       "      <th>5+</th>\n",
       "      <th>3+</th>\n",
       "      <th>4+</th>\n",
       "    </tr>\n",
       "    <tr>\n",
       "      <th>ID</th>\n",
       "      <th></th>\n",
       "      <th></th>\n",
       "      <th></th>\n",
       "      <th></th>\n",
       "      <th></th>\n",
       "      <th></th>\n",
       "      <th></th>\n",
       "    </tr>\n",
       "  </thead>\n",
       "  <tbody>\n",
       "    <tr>\n",
       "      <th>10001</th>\n",
       "      <td>NaN</td>\n",
       "      <td>NaN</td>\n",
       "      <td>NaN</td>\n",
       "      <td>NaN</td>\n",
       "      <td>NaN</td>\n",
       "      <td>NaN</td>\n",
       "      <td>NaN</td>\n",
       "    </tr>\n",
       "    <tr>\n",
       "      <th>10015</th>\n",
       "      <td>NaN</td>\n",
       "      <td>NaN</td>\n",
       "      <td>NaN</td>\n",
       "      <td>NaN</td>\n",
       "      <td>NaN</td>\n",
       "      <td>NaN</td>\n",
       "      <td>NaN</td>\n",
       "    </tr>\n",
       "    <tr>\n",
       "      <th>10020</th>\n",
       "      <td>NaN</td>\n",
       "      <td>NaN</td>\n",
       "      <td>NaN</td>\n",
       "      <td>NaN</td>\n",
       "      <td>NaN</td>\n",
       "      <td>NaN</td>\n",
       "      <td>NaN</td>\n",
       "    </tr>\n",
       "    <tr>\n",
       "      <th>10405</th>\n",
       "      <td>NaN</td>\n",
       "      <td>NaN</td>\n",
       "      <td>NaN</td>\n",
       "      <td>NaN</td>\n",
       "      <td>NaN</td>\n",
       "      <td>NaN</td>\n",
       "      <td>NaN</td>\n",
       "    </tr>\n",
       "    <tr>\n",
       "      <th>10505</th>\n",
       "      <td>6.96325</td>\n",
       "      <td>4.061896</td>\n",
       "      <td>3.868472</td>\n",
       "      <td>0.386847</td>\n",
       "      <td>0.0</td>\n",
       "      <td>4.255319</td>\n",
       "      <td>0.386847</td>\n",
       "    </tr>\n",
       "  </tbody>\n",
       "</table>\n",
       "</div>"
      ],
      "text/plain": [
       "             1         2         3         4   5+        3+        4+\n",
       "ID                                                                   \n",
       "10001      NaN       NaN       NaN       NaN  NaN       NaN       NaN\n",
       "10015      NaN       NaN       NaN       NaN  NaN       NaN       NaN\n",
       "10020      NaN       NaN       NaN       NaN  NaN       NaN       NaN\n",
       "10405      NaN       NaN       NaN       NaN  NaN       NaN       NaN\n",
       "10505  6.96325  4.061896  3.868472  0.386847  0.0  4.255319  0.386847"
      ]
     },
     "execution_count": 146,
     "metadata": {},
     "output_type": "execute_result"
    }
   ],
   "source": [
    "relative_to_enrollment.head()"
   ]
  },
  {
   "cell_type": "code",
   "execution_count": 147,
   "metadata": {},
   "outputs": [
    {
     "data": {
      "text/html": [
       "<div>\n",
       "<style scoped>\n",
       "    .dataframe tbody tr th:only-of-type {\n",
       "        vertical-align: middle;\n",
       "    }\n",
       "\n",
       "    .dataframe tbody tr th {\n",
       "        vertical-align: top;\n",
       "    }\n",
       "\n",
       "    .dataframe thead th {\n",
       "        text-align: right;\n",
       "    }\n",
       "</style>\n",
       "<table border=\"1\" class=\"dataframe\">\n",
       "  <thead>\n",
       "    <tr style=\"text-align: right;\">\n",
       "      <th></th>\n",
       "      <th>1</th>\n",
       "      <th>2</th>\n",
       "      <th>3</th>\n",
       "      <th>4</th>\n",
       "      <th>5+</th>\n",
       "      <th>3+</th>\n",
       "      <th>4+</th>\n",
       "    </tr>\n",
       "    <tr>\n",
       "      <th>ID</th>\n",
       "      <th></th>\n",
       "      <th></th>\n",
       "      <th></th>\n",
       "      <th></th>\n",
       "      <th></th>\n",
       "      <th></th>\n",
       "      <th></th>\n",
       "    </tr>\n",
       "  </thead>\n",
       "  <tbody>\n",
       "    <tr>\n",
       "      <th>10505</th>\n",
       "      <td>45.569620</td>\n",
       "      <td>26.582278</td>\n",
       "      <td>25.316456</td>\n",
       "      <td>2.531646</td>\n",
       "      <td>0.000000</td>\n",
       "      <td>27.848101</td>\n",
       "      <td>2.531646</td>\n",
       "    </tr>\n",
       "    <tr>\n",
       "      <th>50505</th>\n",
       "      <td>48.484848</td>\n",
       "      <td>33.766234</td>\n",
       "      <td>11.255411</td>\n",
       "      <td>4.761905</td>\n",
       "      <td>1.731602</td>\n",
       "      <td>17.748918</td>\n",
       "      <td>6.493506</td>\n",
       "    </tr>\n",
       "    <tr>\n",
       "      <th>70505</th>\n",
       "      <td>51.190476</td>\n",
       "      <td>46.428571</td>\n",
       "      <td>2.380952</td>\n",
       "      <td>0.000000</td>\n",
       "      <td>0.000000</td>\n",
       "      <td>2.380952</td>\n",
       "      <td>0.000000</td>\n",
       "    </tr>\n",
       "    <tr>\n",
       "      <th>90505</th>\n",
       "      <td>41.458333</td>\n",
       "      <td>38.125000</td>\n",
       "      <td>16.041667</td>\n",
       "      <td>3.750000</td>\n",
       "      <td>0.625000</td>\n",
       "      <td>20.416667</td>\n",
       "      <td>4.375000</td>\n",
       "    </tr>\n",
       "    <tr>\n",
       "      <th>100505</th>\n",
       "      <td>29.471033</td>\n",
       "      <td>32.493703</td>\n",
       "      <td>22.921914</td>\n",
       "      <td>10.579345</td>\n",
       "      <td>4.534005</td>\n",
       "      <td>38.035264</td>\n",
       "      <td>15.113350</td>\n",
       "    </tr>\n",
       "  </tbody>\n",
       "</table>\n",
       "</div>"
      ],
      "text/plain": [
       "                1          2          3          4        5+         3+  \\\n",
       "ID                                                                        \n",
       "10505   45.569620  26.582278  25.316456   2.531646  0.000000  27.848101   \n",
       "50505   48.484848  33.766234  11.255411   4.761905  1.731602  17.748918   \n",
       "70505   51.190476  46.428571   2.380952   0.000000  0.000000   2.380952   \n",
       "90505   41.458333  38.125000  16.041667   3.750000  0.625000  20.416667   \n",
       "100505  29.471033  32.493703  22.921914  10.579345  4.534005  38.035264   \n",
       "\n",
       "               4+  \n",
       "ID                 \n",
       "10505    2.531646  \n",
       "50505    6.493506  \n",
       "70505    0.000000  \n",
       "90505    4.375000  \n",
       "100505  15.113350  "
      ]
     },
     "execution_count": 147,
     "metadata": {},
     "output_type": "execute_result"
    }
   ],
   "source": [
    "relative_to_takers.head()"
   ]
  },
  {
   "cell_type": "code",
   "execution_count": 148,
   "metadata": {},
   "outputs": [
    {
     "data": {
      "text/html": [
       "<div>\n",
       "<style scoped>\n",
       "    .dataframe tbody tr th:only-of-type {\n",
       "        vertical-align: middle;\n",
       "    }\n",
       "\n",
       "    .dataframe tbody tr th {\n",
       "        vertical-align: top;\n",
       "    }\n",
       "\n",
       "    .dataframe thead th {\n",
       "        text-align: right;\n",
       "    }\n",
       "</style>\n",
       "<table border=\"1\" class=\"dataframe\">\n",
       "  <thead>\n",
       "    <tr style=\"text-align: right;\">\n",
       "      <th></th>\n",
       "      <th>1</th>\n",
       "      <th>2</th>\n",
       "      <th>3</th>\n",
       "      <th>4</th>\n",
       "      <th>5+</th>\n",
       "      <th>3+</th>\n",
       "      <th>4+</th>\n",
       "    </tr>\n",
       "    <tr>\n",
       "      <th>ID</th>\n",
       "      <th></th>\n",
       "      <th></th>\n",
       "      <th></th>\n",
       "      <th></th>\n",
       "      <th></th>\n",
       "      <th></th>\n",
       "      <th></th>\n",
       "    </tr>\n",
       "  </thead>\n",
       "  <tbody>\n",
       "    <tr>\n",
       "      <th>10505</th>\n",
       "      <td>45.569620</td>\n",
       "      <td>26.582278</td>\n",
       "      <td>25.316456</td>\n",
       "      <td>2.531646</td>\n",
       "      <td>0.000000</td>\n",
       "      <td>27.848101</td>\n",
       "      <td>2.531646</td>\n",
       "    </tr>\n",
       "    <tr>\n",
       "      <th>50505</th>\n",
       "      <td>48.484848</td>\n",
       "      <td>33.766234</td>\n",
       "      <td>11.255411</td>\n",
       "      <td>4.761905</td>\n",
       "      <td>1.731602</td>\n",
       "      <td>17.748918</td>\n",
       "      <td>6.493506</td>\n",
       "    </tr>\n",
       "    <tr>\n",
       "      <th>70505</th>\n",
       "      <td>51.190476</td>\n",
       "      <td>46.428571</td>\n",
       "      <td>2.380952</td>\n",
       "      <td>0.000000</td>\n",
       "      <td>0.000000</td>\n",
       "      <td>2.380952</td>\n",
       "      <td>0.000000</td>\n",
       "    </tr>\n",
       "    <tr>\n",
       "      <th>90505</th>\n",
       "      <td>41.458333</td>\n",
       "      <td>38.125000</td>\n",
       "      <td>16.041667</td>\n",
       "      <td>3.750000</td>\n",
       "      <td>0.625000</td>\n",
       "      <td>20.416667</td>\n",
       "      <td>4.375000</td>\n",
       "    </tr>\n",
       "    <tr>\n",
       "      <th>100505</th>\n",
       "      <td>29.471033</td>\n",
       "      <td>32.493703</td>\n",
       "      <td>22.921914</td>\n",
       "      <td>10.579345</td>\n",
       "      <td>4.534005</td>\n",
       "      <td>38.035264</td>\n",
       "      <td>15.113350</td>\n",
       "    </tr>\n",
       "  </tbody>\n",
       "</table>\n",
       "</div>"
      ],
      "text/plain": [
       "                1          2          3          4        5+         3+  \\\n",
       "ID                                                                        \n",
       "10505   45.569620  26.582278  25.316456   2.531646  0.000000  27.848101   \n",
       "50505   48.484848  33.766234  11.255411   4.761905  1.731602  17.748918   \n",
       "70505   51.190476  46.428571   2.380952   0.000000  0.000000   2.380952   \n",
       "90505   41.458333  38.125000  16.041667   3.750000  0.625000  20.416667   \n",
       "100505  29.471033  32.493703  22.921914  10.579345  4.534005  38.035264   \n",
       "\n",
       "               4+  \n",
       "ID                 \n",
       "10505    2.531646  \n",
       "50505    6.493506  \n",
       "70505    0.000000  \n",
       "90505    4.375000  \n",
       "100505  15.113350  "
      ]
     },
     "execution_count": 148,
     "metadata": {},
     "output_type": "execute_result"
    }
   ],
   "source": [
    "relative_to_takers.head()"
   ]
  },
  {
   "cell_type": "code",
   "execution_count": 149,
   "metadata": {
    "collapsed": true
   },
   "outputs": [],
   "source": [
    "relative_to = [relative_to_enrollment, relative_to_takers, relative_to_tests]"
   ]
  },
  {
   "cell_type": "code",
   "execution_count": 150,
   "metadata": {
    "collapsed": true
   },
   "outputs": [],
   "source": [
    "for i in relative_to:\n",
    "    i['School'] = participation2018['School']\n",
    "    i['state_rank'] = enrollment2018['state_rank']\n",
    "    i['nat_rank'] = enrollment2018['nat_rank']"
   ]
  },
  {
   "cell_type": "code",
   "execution_count": 137,
   "metadata": {},
   "outputs": [],
   "source": [
    "charted = relative_to_enrollment\n",
    "chosen_column = '4-5+'"
   ]
  },
  {
   "cell_type": "code",
   "execution_count": 138,
   "metadata": {},
   "outputs": [],
   "source": [
    "charted = charted.sort_values([chosen_column], ascending=False)"
   ]
  },
  {
   "cell_type": "code",
   "execution_count": 139,
   "metadata": {
    "scrolled": true
   },
   "outputs": [],
   "source": [
    "#charted = charted.head(5)"
   ]
  },
  {
   "cell_type": "code",
   "execution_count": 140,
   "metadata": {},
   "outputs": [
    {
     "name": "stderr",
     "output_type": "stream",
     "text": [
      "C:\\Users\\elanr\\Anaconda3\\lib\\site-packages\\seaborn\\categorical.py:1460: FutureWarning: remove_na is deprecated and is a private function. Do not use.\n",
      "  stat_data = remove_na(group_data)\n"
     ]
    },
    {
     "data": {
      "image/png": "[encoded data removed]",
      "text/plain": [
       "<matplotlib.figure.Figure at 0x197470140f0>"
      ]
     },
     "metadata": {},
     "output_type": "display_data"
    }
   ],
   "source": [
    "sns.set(style=\"whitegrid\")\n",
    "plt.subplots(figsize=(20,15))\n",
    "sns.barplot(x='School', y=chosen_column, data=charted)\n",
    "plt.show()"
   ]
  },
  {
   "cell_type": "code",
   "execution_count": null,
   "metadata": {
    "collapsed": true
   },
   "outputs": [],
   "source": []
  }
 ],
 "metadata": {
  "kernelspec": {
   "display_name": "Python 3",
   "language": "python",
   "name": "python3"
  },
  "language_info": {
   "codemirror_mode": {
    "name": "ipython",
    "version": 3
   },
   "file_extension": ".py",
   "mimetype": "text/x-python",
   "name": "python",
   "nbconvert_exporter": "python",
   "pygments_lexer": "ipython3",
   "version": "3.6.2"
  }
 },
 "nbformat": 4,
 "nbformat_minor": 2
}
