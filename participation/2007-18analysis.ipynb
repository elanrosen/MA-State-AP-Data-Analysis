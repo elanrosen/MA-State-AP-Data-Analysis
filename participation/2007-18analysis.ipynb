{
 "cells": [
  {
   "cell_type": "code",
   "execution_count": 1,
   "metadata": {},
   "outputs": [],
   "source": [
    "import pandas as pd\n",
    "import numpy as np\n",
    "import matplotlib.pyplot as plt\n",
    "import seaborn as sns"
   ]
  },
  {
   "cell_type": "code",
   "execution_count": 2,
   "metadata": {},
   "outputs": [],
   "source": [
    "file_participation = \"participation.xlsx\"\n",
    "file_enrollment = 'enrollment.xlsx'\n",
    "\n",
    "excel_participation = pd.ExcelFile(file_participation)\n",
    "excel_enrollment = pd.ExcelFile(file_enrollment)\n",
    "\n",
    "participation = {}\n",
    "for year in excel_participation.sheet_names: #creates dicts to store each pandas sheet for year ex. participation[2007] gives 2007\n",
    "    participation[year] = pd.read_excel(file_participation, sheet_name=year, index_col=1, header=None, names=['School', 'Takers', 'Tests', '1', '2', '3', '4', '5+'])\n",
    "    participation[year].index.names = ['ID']\n",
    "\n",
    "enrollment = {} \n",
    "for year in excel_enrollment.sheet_names:##creates dicts to store each pandas sheet for year\n",
    "    enrollment[year] = pd.read_excel(excel_enrollment, sheet_name=year, index_col=1, header=None)\n",
    "    if year!='rankings':\n",
    "        enrollment[year]['9-12'] = enrollment[year][12]+enrollment[year][13]+enrollment[year][14]+enrollment[year][15]\n",
    "        enrollment[year].drop([0,2,3,4,5,6,7,8,9,10,11,12,13,14,15,16,17], axis=1, inplace=True)\n",
    "        enrollment[year] = enrollment[year][enrollment[year]['9-12'] != 0]\n",
    "    if year=='rankings':\n",
    "        enrollment[year].columns = ['School', 'state_rank', 'national_rank']\n",
    "        enrollment[year] = enrollment[year].dropna()\n",
    "    enrollment[year].index.names = ['ID']\n"
   ]
  },
  {
   "cell_type": "code",
   "execution_count": 4,
   "metadata": {},
   "outputs": [],
   "source": [
    "relatives = {}\n",
    "for year in excel_participation.sheet_names:\n",
    "    relatives['enrollment' + year] = pd.DataFrame()\n",
    "    relatives['takers' + year] = pd.DataFrame()\n",
    "    relatives['tests' + year] = pd.DataFrame()\n"
   ]
  },
  {
   "cell_type": "code",
   "execution_count": 5,
   "metadata": {},
   "outputs": [],
   "source": [
    "participation_reference = {}\n",
    "for year in excel_participation.sheet_names:\n",
    "# if 1>0:\n",
    "    participation_reference[year] = pd.concat([participation[year]['1'],\n",
    "                participation[year]['2'],\n",
    "                participation[year]['3'],\n",
    "                participation[year]['4'],\n",
    "                participation[year]['5+']],\n",
    "                axis=1,)\n",
    "    participation_reference[year]['1+'] = participation[year]['1'] + participation[year]['2'] + participation[year]['3'] + participation[year]['4'] + participation[year]['5+']\n",
    "    participation_reference[year]['2+'] = participation[year]['2'] + participation[year]['3'] + participation[year]['4'] + participation[year]['5+']\n",
    "    participation_reference[year]['3+'] = participation[year]['3'] + participation[year]['4'] + participation[year]['5+']\n",
    "    participation_reference[year]['4+'] = participation[year]['4'] + participation[year]['5+']\n",
    "    for i in participation_reference[year].columns:\n",
    "        relatives['enrollment' + year][i] = participation_reference[year][i] / enrollment[year]['9-12'] * 100\n",
    "        relatives['takers' + year][i] = participation_reference[year][i] / participation[year]['Takers'] * 100\n",
    "        relatives['tests' + year][i] = participation_reference[year][i] / participation[year]['Tests'] * 100\n",
    "        relative_to = [relatives['enrollment' + year], relatives['takers' + year], relatives['tests' + year]]\n",
    "        for x in relative_to:\n",
    "            x['School'] = participation[year]['School']\n",
    "            if int(year)>2013:\n",
    "                x['state_rank'] = enrollment['rankings']['state_rank']\n",
    "                x['national_rank'] = enrollment['rankings']['national_rank']\n",
    "        relative_to=None\n"
   ]
  },
  {
   "cell_type": "code",
   "execution_count": 6,
   "metadata": {},
   "outputs": [],
   "source": [
    "charted = relatives['enrollment2018']\n",
    "chosen_column = '4+'"
   ]
  },
  {
   "cell_type": "code",
   "execution_count": 7,
   "metadata": {},
   "outputs": [],
   "source": [
    "charted = charted.sort_values([chosen_column], ascending=False)"
   ]
  },
  {
   "cell_type": "code",
   "execution_count": 10,
   "metadata": {
    "scrolled": true
   },
   "outputs": [],
   "source": [
    "charted = charted.head(10)"
   ]
  },
  {
   "cell_type": "code",
   "execution_count": 11,
   "metadata": {},
   "outputs": [
    {
     "data": {
      "image/png": "[encoded data removed]",
      "text/plain": [
       "<Figure size 432x288 with 1 Axes>"
      ]
     },
     "metadata": {},
     "output_type": "display_data"
    }
   ],
   "source": [
    "sns.set(style=\"whitegrid\")\n",
    "sns.barplot(x='School', y=chosen_column, data=charted)\n",
    "plt.show()"
   ]
  },
  {
   "cell_type": "code",
   "execution_count": null,
   "metadata": {},
   "outputs": [],
   "source": [
    "sns.scatterplot(x=\"nat_rank\", y='3+', data=charted)\n",
    "plt.show()\n",
    "\n",
    "sns.scatterplot(x=\"nat_rank\", y='4+', data=charted)\n",
    "plt.show()\n",
    "\n",
    "sns.scatterplot(x=\"nat_rank\", y='5+', data=charted)\n",
    "plt.show()"
   ]
  },
  {
   "cell_type": "code",
   "execution_count": null,
   "metadata": {},
   "outputs": [],
   "source": [
    "cut_number = .1\n",
    "sns.kdeplot(charted['4+'], cut=cut_number)\n",
    "sns.kdeplot(charted['3+'], cut=cut_number)\n",
    "sns.kdeplot(charted['5+'], cut=cut_number)\n",
    "plt.show()"
   ]
  },
  {
   "cell_type": "code",
   "execution_count": 97,
   "metadata": {},
   "outputs": [],
   "source": []
  },
  {
   "cell_type": "code",
   "execution_count": 92,
   "metadata": {},
   "outputs": [
    {
     "data": {
      "text/plain": [
       "3"
      ]
     },
     "execution_count": 92,
     "metadata": {},
     "output_type": "execute_result"
    }
   ],
   "source": []
  },
  {
   "cell_type": "code",
   "execution_count": null,
   "metadata": {},
   "outputs": [],
   "source": []
  }
 ],
 "metadata": {
  "kernelspec": {
   "display_name": "Python 3",
   "language": "python",
   "name": "python3"
  },
  "language_info": {
   "codemirror_mode": {
    "name": "ipython",
    "version": 3
   },
   "file_extension": ".py",
   "mimetype": "text/x-python",
   "name": "python",
   "nbconvert_exporter": "python",
   "pygments_lexer": "ipython3",
   "version": "3.6.8"
  }
 },
 "nbformat": 4,
 "nbformat_minor": 2
}
