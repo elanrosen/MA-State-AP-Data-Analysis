{
 "cells": [
  {
   "cell_type": "code",
   "execution_count": 22,
   "metadata": {},
   "outputs": [],
   "source": [
    "import pandas as pd\n",
    "import numpy as np\n",
    "import matplotlib.pyplot as plt\n",
    "import seaborn as sns"
   ]
  },
  {
   "cell_type": "code",
   "execution_count": 23,
   "metadata": {},
   "outputs": [],
   "source": [
    "file_participation = \"participation.xlsx\"\n",
    "file_enrollment = 'enrollment.xlsx'\n",
    "\n",
    "excel_participation = pd.ExcelFile(file_participation)\n",
    "excel_enrollment = pd.ExcelFile(file_enrollment)\n",
    "\n",
    "participation = {}\n",
    "for year in excel_participation.sheet_names: #creates dicts to store each pandas sheet for year ex. participation[2007] gives 2007\n",
    "    participation[year] = pd.read_excel(file_participation, sheet_name=year, index_col=1, header=None, names=['School', 'Takers', 'Tests', '1', '2', '3', '4', '5+'])\n",
    "    participation[year].index.names = ['ID']\n",
    "\n",
    "enrollment = {} \n",
    "for year in excel_enrollment.sheet_names:##creates dicts to store each pandas sheet for year\n",
    "    enrollment[year] = pd.read_excel(excel_enrollment, sheet_name=year, index_col=1, header=None)\n",
    "    if year!='rankings':\n",
    "        enrollment[year]['9-12'] = enrollment[year][12]+enrollment[year][13]+enrollment[year][14]+enrollment[year][15]\n",
    "        enrollment[year].drop([0,2,3,4,5,6,7,8,9,10,11,12,13,14,15,16,17], axis=1, inplace=True)\n",
    "        enrollment[year] = enrollment[year][enrollment[year]['9-12'] != 0]\n",
    "    if year=='rankings':\n",
    "        enrollment[year].columns = ['School', 'state_rank', 'national_rank']\n",
    "        enrollment[year] = enrollment[year].dropna()\n",
    "    enrollment[year].index.names = ['ID']\n"
   ]
  },
  {
   "cell_type": "code",
   "execution_count": 24,
   "metadata": {},
   "outputs": [],
   "source": [
    "relatives = {}\n",
    "for year in excel_participation.sheet_names:\n",
    "    relatives['enrollment' + year] = pd.DataFrame()\n",
    "    relatives['takers' + year] = pd.DataFrame()\n",
    "    relatives['tests' + year] = pd.DataFrame()\n"
   ]
  },
  {
   "cell_type": "code",
   "execution_count": 143,
   "metadata": {},
   "outputs": [],
   "source": [
    "participation_reference = {}\n",
    "years = []\n",
    "for year in excel_participation.sheet_names:\n",
    "# if 1>0:\n",
    "    participation_reference[year] = pd.concat([participation[year]['1'],\n",
    "                participation[year]['2'],\n",
    "                participation[year]['3'],\n",
    "                participation[year]['4'],\n",
    "                participation[year]['5+']],\n",
    "                axis=1,)\n",
    "    participation_reference[year]['4+'] = participation[year]['4'] + participation[year]['5+']\n",
    "    participation_reference[year]['3+'] = participation[year]['3'] + participation_reference[year]['4+']\n",
    "    participation_reference[year]['2+'] = participation[year]['2'] + participation_reference[year]['3+']\n",
    "    participation_reference[year]['1+'] = participation[year]['1'] + participation_reference[year]['2+']\n",
    "    \n",
    "    for i in participation_reference[year].columns:\n",
    "        relatives['enrollment' + year][i] = participation_reference[year][i] / enrollment[year]['9-12'] * 100\n",
    "        relatives['takers' + year][i] = participation_reference[year][i] / participation[year]['Takers'] * 100\n",
    "        relatives['tests' + year][i] = participation_reference[year][i] / participation[year]['Tests'] * 100\n",
    "        relative_to = [relatives['enrollment' + year], relatives['takers' + year], relatives['tests' + year]]\n",
    "        for x in relative_to:\n",
    "            x['School'] = participation[year]['School']\n",
    "            y = pd.DataFrame() ## creates the district column by splitting the school column\n",
    "            y['a'] = participation[year]['School'].str.split()\n",
    "            y = y.stack().str[0].unstack()\n",
    "            x['District'] = y['a']\n",
    "            x['state_rank'] = enrollment['rankings']['state_rank']\n",
    "            x['national_rank'] = enrollment['rankings']['national_rank']\n",
    "        relative_to=None\n",
    "        y=None\n"
   ]
  },
  {
   "cell_type": "markdown",
   "metadata": {},
   "source": [
    "# Utility Functions\n"
   ]
  },
  {
   "cell_type": "code",
   "execution_count": 187,
   "metadata": {},
   "outputs": [],
   "source": [
    "def progression(school_ID, relative_choice, chosen_column, start_year, end_year): ##creates pd.series to store changes in years\n",
    "    progression = pd.Series()\n",
    "    for year in range(start_year, end_year):\n",
    "        progression = progression.append(pd.Series(relatives[relative_choice+str(year)].loc[school_ID, chosen_column], index=[year]))\n",
    "    return progression\n",
    "def index_from_district(district): ##self explanatory\n",
    "    return int(relatives['enrollment2017'][relatives['enrollment2017']['District']==district].index[0])\n"
   ]
  },
  {
   "cell_type": "markdown",
   "metadata": {},
   "source": [
    "# Visualization\n",
    "\n",
    "### Multi-Year Analysis"
   ]
  },
  {
   "cell_type": "code",
   "execution_count": 179,
   "metadata": {},
   "outputs": [
    {
     "data": {
      "text/plain": [
       "1390505"
      ]
     },
     "execution_count": 179,
     "metadata": {},
     "output_type": "execute_result"
    }
   ],
   "source": [
    "y = progression(1390505, 'enrollment', '5+', 2007, 2018)\n",
    "index_from_district('Hopkinton')"
   ]
  },
  {
   "cell_type": "code",
   "execution_count": 180,
   "metadata": {},
   "outputs": [
    {
     "data": {
      "image/png": "[encoded data removed]",
      "text/plain": [
       "<Figure size 432x288 with 1 Axes>"
      ]
     },
     "metadata": {},
     "output_type": "display_data"
    }
   ],
   "source": [
    "sns.barplot(y.index, y.values)\n",
    "plt.show()"
   ]
  },
  {
   "cell_type": "code",
   "execution_count": null,
   "metadata": {},
   "outputs": [],
   "source": [
    "for year in range(2014,2017):\n",
    "    sns.scatterplot(x=\"national_rank\", y='4+', data=relatives['enrollment'+str(year)], legend='full')\n",
    "    \n",
    "plt.show()\n",
    "\n",
    "\n",
    "# sns.scatterplot(x=\"national_rank\", y='4+', data=charted)\n",
    "# plt.show()\n",
    "\n",
    "# sns.scatterplot(x=\"national_rank\", y='5+', data=charted)\n",
    "# plt.show()"
   ]
  },
  {
   "cell_type": "markdown",
   "metadata": {},
   "source": [
    "### Specific-Year Analysis"
   ]
  },
  {
   "cell_type": "code",
   "execution_count": 185,
   "metadata": {},
   "outputs": [],
   "source": [
    "charted = relatives['enrollment2017']\n",
    "chosen_column = '3+'\n",
    "index = False\n",
    "\n",
    "xcolumn = 'District'\n",
    "if index==True:\n",
    "    xcolumn = charted.index\n",
    "charted = charted.sort_values([chosen_column], ascending=False)"
   ]
  },
  {
   "cell_type": "code",
   "execution_count": 186,
   "metadata": {},
   "outputs": [
    {
     "data": {
      "image/png": "[encoded data removed]",
      "text/plain": [
       "<Figure size 1440x288 with 1 Axes>"
      ]
     },
     "metadata": {},
     "output_type": "display_data"
    }
   ],
   "source": [
    "# charted = charted.head(10)\n",
    "sns.set(style=\"whitegrid\")\n",
    "plt.subplots(figsize=(20,4))\n",
    "sns.barplot(x=xcolumn, y=chosen_column, data=charted)\n",
    "plt.show()"
   ]
  },
  {
   "cell_type": "code",
   "execution_count": null,
   "metadata": {},
   "outputs": [],
   "source": [
    "cut_number = .1\n",
    "sns.kdeplot(charted['4+'], cut=cut_number)\n",
    "sns.kdeplot(charted['3+'], cut=cut_number)\n",
    "sns.kdeplot(charted['5+'], cut=cut_number)\n",
    "plt.show()"
   ]
  },
  {
   "cell_type": "code",
   "execution_count": null,
   "metadata": {},
   "outputs": [],
   "source": []
  }
 ],
 "metadata": {
  "kernelspec": {
   "display_name": "Python 3",
   "language": "python",
   "name": "python3"
  },
  "language_info": {
   "codemirror_mode": {
    "name": "ipython",
    "version": 3
   },
   "file_extension": ".py",
   "mimetype": "text/x-python",
   "name": "python",
   "nbconvert_exporter": "python",
   "pygments_lexer": "ipython3",
   "version": "3.6.8"
  }
 },
 "nbformat": 4,
 "nbformat_minor": 2
}
